{
 "cells": [
  {
   "cell_type": "markdown",
   "metadata": {},
   "source": [
    "###Codes for Final Project\n",
    "Understanding Water Quality in the Main Arm of the Fraser River"
   ]
  },
  {
   "cell_type": "code",
   "execution_count": 126,
   "metadata": {
    "collapsed": true
   },
   "outputs": [],
   "source": [
    "# import libraries\n",
    "\n",
    "import pandas as pd\n",
    "import matplotlib.pyplot as plt\n",
    "\n",
    "#stats library\n",
    "\n",
    "import statsmodels.api as sm\n",
    "import scipy\n",
    "\n",
    "#The function below is used to show the plots within the notebook\n",
    "\n",
    "%matplotlib inline"
   ]
  },
  {
   "cell_type": "code",
   "execution_count": 91,
   "metadata": {
    "collapsed": false
   },
   "outputs": [
    {
     "data": {
      "text/plain": [
       "'0.17.0'"
      ]
     },
     "execution_count": 91,
     "metadata": {},
     "output_type": "execute_result"
    }
   ],
   "source": [
    "#Check version of pandas library\n",
    "pd.__version__"
   ]
  },
  {
   "cell_type": "code",
   "execution_count": 93,
   "metadata": {
    "collapsed": false
   },
   "outputs": [],
   "source": [
    "#Path from which the data is retrieved\n",
    "filepath= '../data/Fraser_River_Water_Data.csv'\n",
    "\n",
    "def load_water_quality_data():\n",
    "    '''This function loads the dataset required to complete this project.'''\n",
    "    \n",
    "    #Function used load data\n",
    "    water_quality_data= pd.read_csv(filepath, delimiter= ',')\n",
    "    \n",
    "    return(water_quality_data)"
   ]
  },
  {
   "cell_type": "code",
   "execution_count": 94,
   "metadata": {
    "collapsed": false
   },
   "outputs": [
    {
     "data": {
      "text/html": [
       "<div>\n",
       "<table border=\"1\" class=\"dataframe\">\n",
       "  <thead>\n",
       "    <tr style=\"text-align: right;\">\n",
       "      <th></th>\n",
       "      <th>Sample time</th>\n",
       "      <th>Sample number</th>\n",
       "      <th>Sample type</th>\n",
       "      <th>Arsenic Dissolved [Lab: 1] [VMV: 107942]</th>\n",
       "      <th>Status(0)</th>\n",
       "      <th>Unit code(0)</th>\n",
       "      <th>Value modifier code(0)</th>\n",
       "      <th>Carbon Dissolved Organic [Lab: -54] [VMV: 1067]</th>\n",
       "      <th>Status(1)</th>\n",
       "      <th>Unit code(1)</th>\n",
       "      <th>...</th>\n",
       "      <th>Unit code(13)</th>\n",
       "      <th>Value modifier code(13)</th>\n",
       "      <th>Temperature Water [Lab: 80] [VMV: 1125]</th>\n",
       "      <th>Status(14)</th>\n",
       "      <th>Unit code(14)</th>\n",
       "      <th>Value modifier code(14)</th>\n",
       "      <th>Temperature Water [Lab: -54] [VMV: 1125]</th>\n",
       "      <th>Status(15)</th>\n",
       "      <th>Unit code(15)</th>\n",
       "      <th>Value modifier code(15)</th>\n",
       "    </tr>\n",
       "  </thead>\n",
       "  <tbody>\n",
       "    <tr>\n",
       "      <th>0</th>\n",
       "      <td>2008-08-27 21:50:00</td>\n",
       "      <td>08PY001319</td>\n",
       "      <td>1</td>\n",
       "      <td>NaN</td>\n",
       "      <td>NaN</td>\n",
       "      <td>NaN</td>\n",
       "      <td>NaN</td>\n",
       "      <td>8.2</td>\n",
       "      <td>U</td>\n",
       "      <td>MG/L</td>\n",
       "      <td>...</td>\n",
       "      <td>NaN</td>\n",
       "      <td>NaN</td>\n",
       "      <td>16</td>\n",
       "      <td>U</td>\n",
       "      <td>DEG C</td>\n",
       "      <td>NaN</td>\n",
       "      <td>NaN</td>\n",
       "      <td>NaN</td>\n",
       "      <td>NaN</td>\n",
       "      <td>NaN</td>\n",
       "    </tr>\n",
       "    <tr>\n",
       "      <th>1</th>\n",
       "      <td>2008-09-03 00:25:00</td>\n",
       "      <td>08PY001043</td>\n",
       "      <td>1</td>\n",
       "      <td>NaN</td>\n",
       "      <td>NaN</td>\n",
       "      <td>NaN</td>\n",
       "      <td>NaN</td>\n",
       "      <td>2.0</td>\n",
       "      <td>U</td>\n",
       "      <td>MG/L</td>\n",
       "      <td>...</td>\n",
       "      <td>NaN</td>\n",
       "      <td>NaN</td>\n",
       "      <td>16</td>\n",
       "      <td>U</td>\n",
       "      <td>DEG C</td>\n",
       "      <td>NaN</td>\n",
       "      <td>NaN</td>\n",
       "      <td>NaN</td>\n",
       "      <td>NaN</td>\n",
       "      <td>NaN</td>\n",
       "    </tr>\n",
       "    <tr>\n",
       "      <th>2</th>\n",
       "      <td>2008-09-17 22:15:00</td>\n",
       "      <td>08PY001061</td>\n",
       "      <td>1</td>\n",
       "      <td>NaN</td>\n",
       "      <td>NaN</td>\n",
       "      <td>NaN</td>\n",
       "      <td>NaN</td>\n",
       "      <td>2.9</td>\n",
       "      <td>U</td>\n",
       "      <td>MG/L</td>\n",
       "      <td>...</td>\n",
       "      <td>NaN</td>\n",
       "      <td>NaN</td>\n",
       "      <td>NaN</td>\n",
       "      <td>NaN</td>\n",
       "      <td>NaN</td>\n",
       "      <td>NaN</td>\n",
       "      <td>NaN</td>\n",
       "      <td>NaN</td>\n",
       "      <td>NaN</td>\n",
       "      <td>NaN</td>\n",
       "    </tr>\n",
       "    <tr>\n",
       "      <th>3</th>\n",
       "      <td>2008-09-30 20:30:00</td>\n",
       "      <td>08PY001124</td>\n",
       "      <td>1</td>\n",
       "      <td>NaN</td>\n",
       "      <td>NaN</td>\n",
       "      <td>NaN</td>\n",
       "      <td>NaN</td>\n",
       "      <td>1.6</td>\n",
       "      <td>U</td>\n",
       "      <td>MG/L</td>\n",
       "      <td>...</td>\n",
       "      <td>NaN</td>\n",
       "      <td>NaN</td>\n",
       "      <td>14</td>\n",
       "      <td>U</td>\n",
       "      <td>DEG C</td>\n",
       "      <td>NaN</td>\n",
       "      <td>NaN</td>\n",
       "      <td>NaN</td>\n",
       "      <td>NaN</td>\n",
       "      <td>NaN</td>\n",
       "    </tr>\n",
       "    <tr>\n",
       "      <th>4</th>\n",
       "      <td>2008-10-15 19:24:00</td>\n",
       "      <td>08PY001200</td>\n",
       "      <td>1</td>\n",
       "      <td>NaN</td>\n",
       "      <td>NaN</td>\n",
       "      <td>NaN</td>\n",
       "      <td>NaN</td>\n",
       "      <td>4.7</td>\n",
       "      <td>U</td>\n",
       "      <td>MG/L</td>\n",
       "      <td>...</td>\n",
       "      <td>NaN</td>\n",
       "      <td>NaN</td>\n",
       "      <td>11</td>\n",
       "      <td>U</td>\n",
       "      <td>DEG C</td>\n",
       "      <td>NaN</td>\n",
       "      <td>NaN</td>\n",
       "      <td>NaN</td>\n",
       "      <td>NaN</td>\n",
       "      <td>NaN</td>\n",
       "    </tr>\n",
       "  </tbody>\n",
       "</table>\n",
       "<p>5 rows × 67 columns</p>\n",
       "</div>"
      ],
      "text/plain": [
       "           Sample time Sample number  Sample type  \\\n",
       "0  2008-08-27 21:50:00    08PY001319            1   \n",
       "1  2008-09-03 00:25:00    08PY001043            1   \n",
       "2  2008-09-17 22:15:00    08PY001061            1   \n",
       "3  2008-09-30 20:30:00    08PY001124            1   \n",
       "4  2008-10-15 19:24:00    08PY001200            1   \n",
       "\n",
       "   Arsenic Dissolved [Lab: 1] [VMV: 107942] Status(0) Unit code(0)  \\\n",
       "0                                       NaN       NaN          NaN   \n",
       "1                                       NaN       NaN          NaN   \n",
       "2                                       NaN       NaN          NaN   \n",
       "3                                       NaN       NaN          NaN   \n",
       "4                                       NaN       NaN          NaN   \n",
       "\n",
       "   Value modifier code(0)  Carbon Dissolved Organic [Lab: -54] [VMV: 1067]  \\\n",
       "0                     NaN                                              8.2   \n",
       "1                     NaN                                              2.0   \n",
       "2                     NaN                                              2.9   \n",
       "3                     NaN                                              1.6   \n",
       "4                     NaN                                              4.7   \n",
       "\n",
       "  Status(1) Unit code(1)           ...             Unit code(13)  \\\n",
       "0         U         MG/L           ...                       NaN   \n",
       "1         U         MG/L           ...                       NaN   \n",
       "2         U         MG/L           ...                       NaN   \n",
       "3         U         MG/L           ...                       NaN   \n",
       "4         U         MG/L           ...                       NaN   \n",
       "\n",
       "   Value modifier code(13) Temperature Water [Lab: 80] [VMV: 1125] Status(14)  \\\n",
       "0                      NaN                                      16          U   \n",
       "1                      NaN                                      16          U   \n",
       "2                      NaN                                     NaN        NaN   \n",
       "3                      NaN                                      14          U   \n",
       "4                      NaN                                      11          U   \n",
       "\n",
       "  Unit code(14)  Value modifier code(14)  \\\n",
       "0         DEG C                      NaN   \n",
       "1         DEG C                      NaN   \n",
       "2           NaN                      NaN   \n",
       "3         DEG C                      NaN   \n",
       "4         DEG C                      NaN   \n",
       "\n",
       "  Temperature Water [Lab: -54] [VMV: 1125] Status(15)  Unit code(15)  \\\n",
       "0                                      NaN        NaN            NaN   \n",
       "1                                      NaN        NaN            NaN   \n",
       "2                                      NaN        NaN            NaN   \n",
       "3                                      NaN        NaN            NaN   \n",
       "4                                      NaN        NaN            NaN   \n",
       "\n",
       "   Value modifier code(15)  \n",
       "0                      NaN  \n",
       "1                      NaN  \n",
       "2                      NaN  \n",
       "3                      NaN  \n",
       "4                      NaN  \n",
       "\n",
       "[5 rows x 67 columns]"
      ]
     },
     "execution_count": 94,
     "metadata": {},
     "output_type": "execute_result"
    }
   ],
   "source": [
    "#Print the head of the data set\n",
    "load_water_quality_data().head()"
   ]
  },
  {
   "cell_type": "code",
   "execution_count": 95,
   "metadata": {
    "collapsed": true
   },
   "outputs": [],
   "source": [
    "#Import pasty library to run data\n",
    "\n",
    "from patsy import dmatrices\n",
    "from patsy.builtins import *\n"
   ]
  },
  {
   "cell_type": "code",
   "execution_count": 129,
   "metadata": {
    "collapsed": false
   },
   "outputs": [],
   "source": [
    "\n",
    "def extract_and_drop_data():\n",
    "    \n",
    "    '''This function extracts the variables needed, drop the NaN values and rename these columns such \n",
    "    as to eliminate patsy error'''\n",
    "    \n",
    "    #Extract variables to be analyzed for assignment\n",
    "    fraser_water_quality_testing=load_water_quality_data()[['Sample time', 'Temperature Water [Lab: 80] [VMV: 1125]',\n",
    "                                                          'Oxygen Dissolved [Lab: -54] [VMV: 1124]']]\n",
    "    \n",
    "    #Remove the NaN from the dataset\n",
    "    water_quality_DO=fraser_water_quality_testing.dropna()\n",
    "    \n",
    "    #Change column names to eliminate the possibility of patsy error when doing linear regression\n",
    "    water_quality_DO2= water_quality_DO.rename(columns={'Sample time': 'Sample_time','Temperature Water [Lab: 80] [VMV: 1125]':'Temperature_Lab80',\n",
    "                                                    'Oxygen Dissolved [Lab: -54] [VMV: 1124]':'Oxygen_Dissolved_Lab-54'})\n",
    "    return water_quality_DO2"
   ]
  },
  {
   "cell_type": "code",
   "execution_count": 132,
   "metadata": {
    "collapsed": false
   },
   "outputs": [],
   "source": [
    "#Use the defined function to rename column names and drop empty values\n",
    "\n",
    "edited_columns=extract_and_drop_data()"
   ]
  },
  {
   "cell_type": "code",
   "execution_count": 137,
   "metadata": {
    "collapsed": false
   },
   "outputs": [
    {
     "data": {
      "text/html": [
       "<div>\n",
       "<table border=\"1\" class=\"dataframe\">\n",
       "  <thead>\n",
       "    <tr style=\"text-align: right;\">\n",
       "      <th></th>\n",
       "      <th>Sample_time</th>\n",
       "      <th>Temperature_Lab80</th>\n",
       "      <th>Oxygen_Dissolved_Lab-54</th>\n",
       "    </tr>\n",
       "  </thead>\n",
       "  <tbody>\n",
       "    <tr>\n",
       "      <th>49</th>\n",
       "      <td>2012-04-27 21:40:00</td>\n",
       "      <td>7.5</td>\n",
       "      <td>12.00</td>\n",
       "    </tr>\n",
       "    <tr>\n",
       "      <th>53</th>\n",
       "      <td>2012-07-13 20:40:00</td>\n",
       "      <td>16.5</td>\n",
       "      <td>10.50</td>\n",
       "    </tr>\n",
       "    <tr>\n",
       "      <th>64</th>\n",
       "      <td>2013-05-03 19:30:00</td>\n",
       "      <td>7.5</td>\n",
       "      <td>12.70</td>\n",
       "    </tr>\n",
       "    <tr>\n",
       "      <th>69</th>\n",
       "      <td>2013-07-11 18:35:00</td>\n",
       "      <td>17.5</td>\n",
       "      <td>10.15</td>\n",
       "    </tr>\n",
       "    <tr>\n",
       "      <th>70</th>\n",
       "      <td>2013-07-25 18:00:00</td>\n",
       "      <td>19.5</td>\n",
       "      <td>9.38</td>\n",
       "    </tr>\n",
       "    <tr>\n",
       "      <th>73</th>\n",
       "      <td>2013-09-04 19:10:00</td>\n",
       "      <td>20.0</td>\n",
       "      <td>9.05</td>\n",
       "    </tr>\n",
       "    <tr>\n",
       "      <th>74</th>\n",
       "      <td>2013-09-17 19:25:00</td>\n",
       "      <td>20.6</td>\n",
       "      <td>8.96</td>\n",
       "    </tr>\n",
       "    <tr>\n",
       "      <th>75</th>\n",
       "      <td>2013-10-02 20:45:00</td>\n",
       "      <td>12.2</td>\n",
       "      <td>9.70</td>\n",
       "    </tr>\n",
       "  </tbody>\n",
       "</table>\n",
       "</div>"
      ],
      "text/plain": [
       "            Sample_time  Temperature_Lab80  Oxygen_Dissolved_Lab-54\n",
       "49  2012-04-27 21:40:00                7.5                    12.00\n",
       "53  2012-07-13 20:40:00               16.5                    10.50\n",
       "64  2013-05-03 19:30:00                7.5                    12.70\n",
       "69  2013-07-11 18:35:00               17.5                    10.15\n",
       "70  2013-07-25 18:00:00               19.5                     9.38\n",
       "73  2013-09-04 19:10:00               20.0                     9.05\n",
       "74  2013-09-17 19:25:00               20.6                     8.96\n",
       "75  2013-10-02 20:45:00               12.2                     9.70"
      ]
     },
     "execution_count": 137,
     "metadata": {},
     "output_type": "execute_result"
    }
   ],
   "source": [
    "#Print a new dataframe with the munged data\n",
    "edited_columns"
   ]
  },
  {
   "cell_type": "code",
   "execution_count": 283,
   "metadata": {
    "collapsed": false
   },
   "outputs": [],
   "source": [
    "def linear_model(x,y):\n",
    "    '''This function is used to create a linear regression for x and y variables in the dataset.\n",
    "    The input for the function are the x and y variables while the output is a \n",
    "    linear model that represents these variables'''\n",
    "    \n",
    "    #Define the x and y variables\n",
    "    y= 'Oxygen_Dissolved_Lab-54'\n",
    "    x= 'Temperature_Lab80'\n",
    "    \n",
    "    #General form for the linear model formula, this would be used with the defined variable\n",
    "    lm= sm.formula.ols(formula= \"Q('\" + y + \"') ~ Q('\" + x + \"')\", data= edited_columns).fit()\n",
    "    \n",
    "    # Used to predict function we make a data frame, therefore below we have data frame that is used to make dataframe\n",
    "    x_new=pd.DataFrame({'Temperature_Lab80': range(1,700)})\n",
    "    \n",
    "    # create a predict function to calculate linear model\n",
    "    y_preds=lm.predict(x_new)\n",
    "    \n",
    "    return lm\n",
    "    return x_new\n",
    "    return y_preds\n",
    "    "
   ]
  },
  {
   "cell_type": "code",
   "execution_count": 271,
   "metadata": {
    "collapsed": false
   },
   "outputs": [],
   "source": [
    "#Create a variable for the parameters of the linear model \n",
    "parameters_linear_model=linear_model('Temperature_Lab80','Oxygen_Dissolved_Lab-54').params"
   ]
  },
  {
   "cell_type": "code",
   "execution_count": 272,
   "metadata": {
    "collapsed": false
   },
   "outputs": [
    {
     "data": {
      "text/plain": [
       "Intercept                 13.780598\n",
       "Q('Temperature_Lab80')    -0.229223\n",
       "dtype: float64"
      ]
     },
     "execution_count": 272,
     "metadata": {},
     "output_type": "execute_result"
    }
   ],
   "source": [
    "#Print the parameters of the linear model\n",
    "parameters_linear_model"
   ]
  },
  {
   "cell_type": "code",
   "execution_count": 273,
   "metadata": {
    "collapsed": false
   },
   "outputs": [
    {
     "name": "stderr",
     "output_type": "stream",
     "text": [
      "C:\\Users\\Jhanelle\\Anaconda3\\lib\\site-packages\\scipy\\stats\\stats.py:1233: UserWarning: kurtosistest only valid for n>=20 ... continuing anyway, n=8\n",
      "  int(n))\n"
     ]
    }
   ],
   "source": [
    "#Create a summary for linear model \n",
    "summary_of_linear_model=linear_model('Temperature_Lab80','Oxygen_Dissolved_Lab-54').summary()"
   ]
  },
  {
   "cell_type": "code",
   "execution_count": 260,
   "metadata": {
    "collapsed": false
   },
   "outputs": [
    {
     "data": {
      "text/html": [
       "<table class=\"simpletable\">\n",
       "<caption>OLS Regression Results</caption>\n",
       "<tr>\n",
       "  <th>Dep. Variable:</th>    <td>Q('Oxygen_Dissolved_Lab-54')</td> <th>  R-squared:         </th> <td>   0.812</td>\n",
       "</tr>\n",
       "<tr>\n",
       "  <th>Model:</th>                         <td>OLS</td>             <th>  Adj. R-squared:    </th> <td>   0.781</td>\n",
       "</tr>\n",
       "<tr>\n",
       "  <th>Method:</th>                   <td>Least Squares</td>        <th>  F-statistic:       </th> <td>   25.96</td>\n",
       "</tr>\n",
       "<tr>\n",
       "  <th>Date:</th>                   <td>Tue, 17 Nov 2015</td>       <th>  Prob (F-statistic):</th>  <td>0.00223</td>\n",
       "</tr>\n",
       "<tr>\n",
       "  <th>Time:</th>                       <td>21:25:17</td>           <th>  Log-Likelihood:    </th> <td> -6.6875</td>\n",
       "</tr>\n",
       "<tr>\n",
       "  <th>No. Observations:</th>            <td>     8</td>            <th>  AIC:               </th> <td>   17.37</td>\n",
       "</tr>\n",
       "<tr>\n",
       "  <th>Df Residuals:</th>                <td>     6</td>            <th>  BIC:               </th> <td>   17.53</td>\n",
       "</tr>\n",
       "<tr>\n",
       "  <th>Df Model:</th>                    <td>     1</td>            <th>                     </th>     <td> </td>   \n",
       "</tr>\n",
       "<tr>\n",
       "  <th>Covariance Type:</th>            <td>nonrobust</td>          <th>                     </th>     <td> </td>   \n",
       "</tr>\n",
       "</table>\n",
       "<table class=\"simpletable\">\n",
       "<tr>\n",
       "             <td></td>               <th>coef</th>     <th>std err</th>      <th>t</th>      <th>P>|t|</th> <th>[95.0% Conf. Int.]</th> \n",
       "</tr>\n",
       "<tr>\n",
       "  <th>Intercept</th>              <td>   13.7806</td> <td>    0.719</td> <td>   19.159</td> <td> 0.000</td> <td>   12.021    15.541</td>\n",
       "</tr>\n",
       "<tr>\n",
       "  <th>Q('Temperature_Lab80')</th> <td>   -0.2292</td> <td>    0.045</td> <td>   -5.095</td> <td> 0.002</td> <td>   -0.339    -0.119</td>\n",
       "</tr>\n",
       "</table>\n",
       "<table class=\"simpletable\">\n",
       "<tr>\n",
       "  <th>Omnibus:</th>       <td> 7.204</td> <th>  Durbin-Watson:     </th> <td>   0.784</td>\n",
       "</tr>\n",
       "<tr>\n",
       "  <th>Prob(Omnibus):</th> <td> 0.027</td> <th>  Jarque-Bera (JB):  </th> <td>   2.168</td>\n",
       "</tr>\n",
       "<tr>\n",
       "  <th>Skew:</th>          <td>-1.207</td> <th>  Prob(JB):          </th> <td>   0.338</td>\n",
       "</tr>\n",
       "<tr>\n",
       "  <th>Kurtosis:</th>      <td> 3.823</td> <th>  Cond. No.          </th> <td>    50.6</td>\n",
       "</tr>\n",
       "</table>"
      ],
      "text/plain": [
       "<class 'statsmodels.iolib.summary.Summary'>\n",
       "\"\"\"\n",
       "                                 OLS Regression Results                                 \n",
       "========================================================================================\n",
       "Dep. Variable:     Q('Oxygen_Dissolved_Lab-54')   R-squared:                       0.812\n",
       "Model:                                      OLS   Adj. R-squared:                  0.781\n",
       "Method:                           Least Squares   F-statistic:                     25.96\n",
       "Date:                          Tue, 17 Nov 2015   Prob (F-statistic):            0.00223\n",
       "Time:                                  21:25:17   Log-Likelihood:                -6.6875\n",
       "No. Observations:                             8   AIC:                             17.37\n",
       "Df Residuals:                                 6   BIC:                             17.53\n",
       "Df Model:                                     1                                         \n",
       "Covariance Type:                      nonrobust                                         \n",
       "==========================================================================================\n",
       "                             coef    std err          t      P>|t|      [95.0% Conf. Int.]\n",
       "------------------------------------------------------------------------------------------\n",
       "Intercept                 13.7806      0.719     19.159      0.000        12.021    15.541\n",
       "Q('Temperature_Lab80')    -0.2292      0.045     -5.095      0.002        -0.339    -0.119\n",
       "==============================================================================\n",
       "Omnibus:                        7.204   Durbin-Watson:                   0.784\n",
       "Prob(Omnibus):                  0.027   Jarque-Bera (JB):                2.168\n",
       "Skew:                          -1.207   Prob(JB):                        0.338\n",
       "Kurtosis:                       3.823   Cond. No.                         50.6\n",
       "==============================================================================\n",
       "\n",
       "Warnings:\n",
       "[1] Standard Errors assume that the covariance matrix of the errors is correctly specified.\n",
       "\"\"\""
      ]
     },
     "execution_count": 260,
     "metadata": {},
     "output_type": "execute_result"
    }
   ],
   "source": [
    "#Print the summary of the linear model values\n",
    "summary_of_linear_model"
   ]
  },
  {
   "cell_type": "code",
   "execution_count": 300,
   "metadata": {
    "collapsed": false
   },
   "outputs": [
    {
     "name": "stderr",
     "output_type": "stream",
     "text": [
      "C:\\Users\\Jhanelle\\Anaconda3\\lib\\site-packages\\matplotlib\\collections.py:590: FutureWarning: elementwise comparison failed; returning scalar instead, but in the future will perform elementwise comparison\n",
      "  if self._edgecolors == str('face'):\n"
     ]
    },
    {
     "data": {
      "text/plain": [
       "<matplotlib.figure.Figure at 0xbbedc88>"
      ]
     },
     "metadata": {},
     "output_type": "display_data"
    },
    {
     "data": {
      "image/png": "[encoded data removed]",
      "text/plain": [
       "<matplotlib.figure.Figure at 0xbbe07b8>"
      ]
     },
     "metadata": {},
     "output_type": "display_data"
    }
   ],
   "source": [
    "#Create the dimensions of the figure size for the plot created\n",
    "plt.figure(figsize=(20,20))\n",
    "\n",
    "#Plot the linear model for the dataset\n",
    "plot_water_quality= edited_columns.plot(kind='scatter', x='Temperature_Lab80', y=\"Oxygen_Dissolved_Lab-54\")\n",
    "\n",
    "#Create the x limits for the graph\n",
    "plt.xlim(0,25)\n",
    "\n",
    "#Create the y limits for the graph\n",
    "plt.ylim(0,18)\n",
    "\n",
    "#Define the y_preds variable\n",
    "y_preds=linear_model('Temperature_Lab80','Oxygen_Dissolved_Lab-54').predict(x_new)\n",
    "\n",
    "#Create a plot that displays the linear model\n",
    "plt.plot(x_new, y_preds, c='blue', linewidth=3)\n",
    "\n",
    "#Set title for the linear regression model\n",
    "plt.title('The relationship between Dissolved Oxygen and Temperature in the Fraser River Main Arm', fontsize=9)\n",
    "\n",
    "#Save the linear model plot\n",
    "plt.savefig('../results/Fraser_River_Water_Quality_Graph_01.pdf')\n",
    "\n",
    "plt.show()"
   ]
  },
  {
   "cell_type": "code",
   "execution_count": null,
   "metadata": {
    "collapsed": true
   },
   "outputs": [],
   "source": []
  },
  {
   "cell_type": "code",
   "execution_count": null,
   "metadata": {
    "collapsed": true
   },
   "outputs": [],
   "source": []
  }
 ],
 "metadata": {
  "kernelspec": {
   "display_name": "Python 3",
   "language": "python",
   "name": "python3"
  },
  "language_info": {
   "codemirror_mode": {
    "name": "ipython",
    "version": 3
   },
   "file_extension": ".py",
   "mimetype": "text/x-python",
   "name": "python",
   "nbconvert_exporter": "python",
   "pygments_lexer": "ipython3",
   "version": "3.4.3"
  }
 },
 "nbformat": 4,
 "nbformat_minor": 0
}
