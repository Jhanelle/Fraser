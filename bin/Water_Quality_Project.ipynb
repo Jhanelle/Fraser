{
 "cells": [
  {
   "cell_type": "markdown",
   "metadata": {},
   "source": [
    "###Codes for Final Project\n",
    "Understanding Water Quality in the Main Arm of the Fraser River"
   ]
  },
  {
   "cell_type": "code",
   "execution_count": 52,
   "metadata": {
    "collapsed": true
   },
   "outputs": [],
   "source": [
    "# import libraries\n",
    "\n",
    "import pandas as pd\n",
    "import matplotlib.pyplot as plt\n",
    "import numpy as np\n",
    "\n",
    "#stats library\n",
    "\n",
    "import statsmodels.api as sm\n",
    "import scipy\n",
    "\n",
    "#The function below is used to show the plots within the notebook\n",
    "\n",
    "%matplotlib inline"
   ]
  },
  {
   "cell_type": "code",
   "execution_count": 26,
   "metadata": {
    "collapsed": false
   },
   "outputs": [
    {
     "data": {
      "text/plain": [
       "'0.17.0'"
      ]
     },
     "execution_count": 26,
     "metadata": {},
     "output_type": "execute_result"
    }
   ],
   "source": [
    "#Check version of pandas library\n",
    "pd.__version__"
   ]
  },
  {
   "cell_type": "code",
   "execution_count": 27,
   "metadata": {
    "collapsed": false
   },
   "outputs": [
    {
     "data": {
      "text/plain": [
       "'1.10.1'"
      ]
     },
     "execution_count": 27,
     "metadata": {},
     "output_type": "execute_result"
    }
   ],
   "source": [
    "#Check version of numpy library\n",
    "np.__version__"
   ]
  },
  {
   "cell_type": "code",
   "execution_count": 143,
   "metadata": {
    "collapsed": false
   },
   "outputs": [],
   "source": [
    "def load_water_quality_data():\n",
    "    '''This function loads the dataset required to complete this project.'''\n",
    "    \n",
    "    #Path from which the data is retrieved\n",
    "    filepath= \"../data/Fraser_River_Water_Data.csv\"\n",
    "    \n",
    "    #Function used load data\n",
    "    water_quality_data= pd.read_csv('filepath', delimiter= ',')\n",
    "    \n",
    "    return(water_quality_data)"
   ]
  },
  {
   "cell_type": "code",
   "execution_count": 129,
   "metadata": {
    "collapsed": false
   },
   "outputs": [
    {
     "data": {
      "text/html": [
       "<div>\n",
       "<table border=\"1\" class=\"dataframe\">\n",
       "  <thead>\n",
       "    <tr style=\"text-align: right;\">\n",
       "      <th></th>\n",
       "      <th>Sample time</th>\n",
       "      <th>Sample number</th>\n",
       "      <th>Sample type</th>\n",
       "      <th>Arsenic Dissolved [Lab: 1] [VMV: 107942]</th>\n",
       "      <th>Status(0)</th>\n",
       "      <th>Unit code(0)</th>\n",
       "      <th>Value modifier code(0)</th>\n",
       "      <th>Carbon Dissolved Organic [Lab: -54] [VMV: 1067]</th>\n",
       "      <th>Status(1)</th>\n",
       "      <th>Unit code(1)</th>\n",
       "      <th>...</th>\n",
       "      <th>Unit code(13)</th>\n",
       "      <th>Value modifier code(13)</th>\n",
       "      <th>Temperature Water [Lab: 80] [VMV: 1125]</th>\n",
       "      <th>Status(14)</th>\n",
       "      <th>Unit code(14)</th>\n",
       "      <th>Value modifier code(14)</th>\n",
       "      <th>Temperature Water [Lab: -54] [VMV: 1125]</th>\n",
       "      <th>Status(15)</th>\n",
       "      <th>Unit code(15)</th>\n",
       "      <th>Value modifier code(15)</th>\n",
       "    </tr>\n",
       "  </thead>\n",
       "  <tbody>\n",
       "    <tr>\n",
       "      <th>0</th>\n",
       "      <td>2008-08-27 21:50:00</td>\n",
       "      <td>08PY001319</td>\n",
       "      <td>1</td>\n",
       "      <td>NaN</td>\n",
       "      <td>NaN</td>\n",
       "      <td>NaN</td>\n",
       "      <td>NaN</td>\n",
       "      <td>8.2</td>\n",
       "      <td>U</td>\n",
       "      <td>MG/L</td>\n",
       "      <td>...</td>\n",
       "      <td>NaN</td>\n",
       "      <td>NaN</td>\n",
       "      <td>16</td>\n",
       "      <td>U</td>\n",
       "      <td>DEG C</td>\n",
       "      <td>NaN</td>\n",
       "      <td>NaN</td>\n",
       "      <td>NaN</td>\n",
       "      <td>NaN</td>\n",
       "      <td>NaN</td>\n",
       "    </tr>\n",
       "    <tr>\n",
       "      <th>1</th>\n",
       "      <td>2008-09-03 00:25:00</td>\n",
       "      <td>08PY001043</td>\n",
       "      <td>1</td>\n",
       "      <td>NaN</td>\n",
       "      <td>NaN</td>\n",
       "      <td>NaN</td>\n",
       "      <td>NaN</td>\n",
       "      <td>2.0</td>\n",
       "      <td>U</td>\n",
       "      <td>MG/L</td>\n",
       "      <td>...</td>\n",
       "      <td>NaN</td>\n",
       "      <td>NaN</td>\n",
       "      <td>16</td>\n",
       "      <td>U</td>\n",
       "      <td>DEG C</td>\n",
       "      <td>NaN</td>\n",
       "      <td>NaN</td>\n",
       "      <td>NaN</td>\n",
       "      <td>NaN</td>\n",
       "      <td>NaN</td>\n",
       "    </tr>\n",
       "    <tr>\n",
       "      <th>2</th>\n",
       "      <td>2008-09-17 22:15:00</td>\n",
       "      <td>08PY001061</td>\n",
       "      <td>1</td>\n",
       "      <td>NaN</td>\n",
       "      <td>NaN</td>\n",
       "      <td>NaN</td>\n",
       "      <td>NaN</td>\n",
       "      <td>2.9</td>\n",
       "      <td>U</td>\n",
       "      <td>MG/L</td>\n",
       "      <td>...</td>\n",
       "      <td>NaN</td>\n",
       "      <td>NaN</td>\n",
       "      <td>NaN</td>\n",
       "      <td>NaN</td>\n",
       "      <td>NaN</td>\n",
       "      <td>NaN</td>\n",
       "      <td>NaN</td>\n",
       "      <td>NaN</td>\n",
       "      <td>NaN</td>\n",
       "      <td>NaN</td>\n",
       "    </tr>\n",
       "    <tr>\n",
       "      <th>3</th>\n",
       "      <td>2008-09-30 20:30:00</td>\n",
       "      <td>08PY001124</td>\n",
       "      <td>1</td>\n",
       "      <td>NaN</td>\n",
       "      <td>NaN</td>\n",
       "      <td>NaN</td>\n",
       "      <td>NaN</td>\n",
       "      <td>1.6</td>\n",
       "      <td>U</td>\n",
       "      <td>MG/L</td>\n",
       "      <td>...</td>\n",
       "      <td>NaN</td>\n",
       "      <td>NaN</td>\n",
       "      <td>14</td>\n",
       "      <td>U</td>\n",
       "      <td>DEG C</td>\n",
       "      <td>NaN</td>\n",
       "      <td>NaN</td>\n",
       "      <td>NaN</td>\n",
       "      <td>NaN</td>\n",
       "      <td>NaN</td>\n",
       "    </tr>\n",
       "    <tr>\n",
       "      <th>4</th>\n",
       "      <td>2008-10-15 19:24:00</td>\n",
       "      <td>08PY001200</td>\n",
       "      <td>1</td>\n",
       "      <td>NaN</td>\n",
       "      <td>NaN</td>\n",
       "      <td>NaN</td>\n",
       "      <td>NaN</td>\n",
       "      <td>4.7</td>\n",
       "      <td>U</td>\n",
       "      <td>MG/L</td>\n",
       "      <td>...</td>\n",
       "      <td>NaN</td>\n",
       "      <td>NaN</td>\n",
       "      <td>11</td>\n",
       "      <td>U</td>\n",
       "      <td>DEG C</td>\n",
       "      <td>NaN</td>\n",
       "      <td>NaN</td>\n",
       "      <td>NaN</td>\n",
       "      <td>NaN</td>\n",
       "      <td>NaN</td>\n",
       "    </tr>\n",
       "  </tbody>\n",
       "</table>\n",
       "<p>5 rows × 67 columns</p>\n",
       "</div>"
      ],
      "text/plain": [
       "           Sample time Sample number  Sample type  \\\n",
       "0  2008-08-27 21:50:00    08PY001319            1   \n",
       "1  2008-09-03 00:25:00    08PY001043            1   \n",
       "2  2008-09-17 22:15:00    08PY001061            1   \n",
       "3  2008-09-30 20:30:00    08PY001124            1   \n",
       "4  2008-10-15 19:24:00    08PY001200            1   \n",
       "\n",
       "   Arsenic Dissolved [Lab: 1] [VMV: 107942] Status(0) Unit code(0)  \\\n",
       "0                                       NaN       NaN          NaN   \n",
       "1                                       NaN       NaN          NaN   \n",
       "2                                       NaN       NaN          NaN   \n",
       "3                                       NaN       NaN          NaN   \n",
       "4                                       NaN       NaN          NaN   \n",
       "\n",
       "   Value modifier code(0)  Carbon Dissolved Organic [Lab: -54] [VMV: 1067]  \\\n",
       "0                     NaN                                              8.2   \n",
       "1                     NaN                                              2.0   \n",
       "2                     NaN                                              2.9   \n",
       "3                     NaN                                              1.6   \n",
       "4                     NaN                                              4.7   \n",
       "\n",
       "  Status(1) Unit code(1)           ...             Unit code(13)  \\\n",
       "0         U         MG/L           ...                       NaN   \n",
       "1         U         MG/L           ...                       NaN   \n",
       "2         U         MG/L           ...                       NaN   \n",
       "3         U         MG/L           ...                       NaN   \n",
       "4         U         MG/L           ...                       NaN   \n",
       "\n",
       "   Value modifier code(13) Temperature Water [Lab: 80] [VMV: 1125] Status(14)  \\\n",
       "0                      NaN                                      16          U   \n",
       "1                      NaN                                      16          U   \n",
       "2                      NaN                                     NaN        NaN   \n",
       "3                      NaN                                      14          U   \n",
       "4                      NaN                                      11          U   \n",
       "\n",
       "  Unit code(14)  Value modifier code(14)  \\\n",
       "0         DEG C                      NaN   \n",
       "1         DEG C                      NaN   \n",
       "2           NaN                      NaN   \n",
       "3         DEG C                      NaN   \n",
       "4         DEG C                      NaN   \n",
       "\n",
       "  Temperature Water [Lab: -54] [VMV: 1125] Status(15)  Unit code(15)  \\\n",
       "0                                      NaN        NaN            NaN   \n",
       "1                                      NaN        NaN            NaN   \n",
       "2                                      NaN        NaN            NaN   \n",
       "3                                      NaN        NaN            NaN   \n",
       "4                                      NaN        NaN            NaN   \n",
       "\n",
       "   Value modifier code(15)  \n",
       "0                      NaN  \n",
       "1                      NaN  \n",
       "2                      NaN  \n",
       "3                      NaN  \n",
       "4                      NaN  \n",
       "\n",
       "[5 rows x 67 columns]"
      ]
     },
     "execution_count": 129,
     "metadata": {},
     "output_type": "execute_result"
    }
   ],
   "source": [
    "#Print the head of the data set\n",
    "water_quality_data.head()"
   ]
  },
  {
   "cell_type": "code",
   "execution_count": 130,
   "metadata": {
    "collapsed": false
   },
   "outputs": [
    {
     "data": {
      "text/plain": [
       "Sample time                                  object\n",
       "Sample number                                object\n",
       "Sample type                                   int64\n",
       "Arsenic Dissolved [Lab: 1] [VMV: 107942]    float64\n",
       "Status(0)                                    object\n",
       "dtype: object"
      ]
     },
     "execution_count": 130,
     "metadata": {},
     "output_type": "execute_result"
    }
   ],
   "source": [
    "#Print the variables for the dataset to help understand the dataset better\n",
    "\n",
    "water_quality_data.dtypes.head()"
   ]
  },
  {
   "cell_type": "code",
   "execution_count": 106,
   "metadata": {
    "collapsed": true
   },
   "outputs": [],
   "source": [
    "#Import pasty library to run data\n",
    "\n",
    "from patsy import dmatrices\n",
    "from patsy.builtins import *\n"
   ]
  },
  {
   "cell_type": "code",
   "execution_count": 164,
   "metadata": {
    "collapsed": false
   },
   "outputs": [],
   "source": [
    "def extract_and_drop_data ():\n",
    "    \n",
    "    '''This function extracts the variables needed, drop the NaN values and rename these columns such \n",
    "    as to eliminate patsy error'''\n",
    "    \n",
    "    #Extract variables to be analyzed for assignment\n",
    "    fraser_water_quality_testing=water_quality_data[['Sample time', 'Temperature Water [Lab: 80] [VMV: 1125]',\n",
    "                                         'Oxygen Dissolved [Lab: -54] [VMV: 1124]']]\n",
    "    \n",
    "    #Remove the NaN from the dataset\n",
    "    water_quality_DO=fraser_water_quality_testing.dropna()\n",
    "    \n",
    "    #Change column names to eliminate the possibility of patsy error when doing linear regression\n",
    "    water_quality_DO2= water_quality_DO.rename(columns={'Sample time': 'Sample_time', \n",
    "                                                        'Temperature Water [Lab: 80] [VMV: 1125]':'Temperature_Lab80',\n",
    "                                                    'Oxygen Dissolved [Lab: -54] [VMV: 1124]':\n",
    "                                                              'Oxygen_Dissolved_Lab-54'})\n",
    "    \n",
    "    return (fraser_water_quality_testing)  \n",
    "    return (water_quality_DO)\n",
    "    return (water_quality_DO2)"
   ]
  },
  {
   "cell_type": "code",
   "execution_count": 142,
   "metadata": {
    "collapsed": false
   },
   "outputs": [
    {
     "data": {
      "text/html": [
       "<div>\n",
       "<table border=\"1\" class=\"dataframe\">\n",
       "  <thead>\n",
       "    <tr style=\"text-align: right;\">\n",
       "      <th></th>\n",
       "      <th>Sample_time</th>\n",
       "      <th>Temperature_Lab80</th>\n",
       "      <th>Oxygen_Dissolved_Lab-54</th>\n",
       "    </tr>\n",
       "  </thead>\n",
       "  <tbody>\n",
       "    <tr>\n",
       "      <th>49</th>\n",
       "      <td>2012-04-27 21:40:00</td>\n",
       "      <td>7.5</td>\n",
       "      <td>12.00</td>\n",
       "    </tr>\n",
       "    <tr>\n",
       "      <th>53</th>\n",
       "      <td>2012-07-13 20:40:00</td>\n",
       "      <td>16.5</td>\n",
       "      <td>10.50</td>\n",
       "    </tr>\n",
       "    <tr>\n",
       "      <th>64</th>\n",
       "      <td>2013-05-03 19:30:00</td>\n",
       "      <td>7.5</td>\n",
       "      <td>12.70</td>\n",
       "    </tr>\n",
       "    <tr>\n",
       "      <th>69</th>\n",
       "      <td>2013-07-11 18:35:00</td>\n",
       "      <td>17.5</td>\n",
       "      <td>10.15</td>\n",
       "    </tr>\n",
       "    <tr>\n",
       "      <th>70</th>\n",
       "      <td>2013-07-25 18:00:00</td>\n",
       "      <td>19.5</td>\n",
       "      <td>9.38</td>\n",
       "    </tr>\n",
       "    <tr>\n",
       "      <th>73</th>\n",
       "      <td>2013-09-04 19:10:00</td>\n",
       "      <td>20.0</td>\n",
       "      <td>9.05</td>\n",
       "    </tr>\n",
       "    <tr>\n",
       "      <th>74</th>\n",
       "      <td>2013-09-17 19:25:00</td>\n",
       "      <td>20.6</td>\n",
       "      <td>8.96</td>\n",
       "    </tr>\n",
       "    <tr>\n",
       "      <th>75</th>\n",
       "      <td>2013-10-02 20:45:00</td>\n",
       "      <td>12.2</td>\n",
       "      <td>9.70</td>\n",
       "    </tr>\n",
       "  </tbody>\n",
       "</table>\n",
       "</div>"
      ],
      "text/plain": [
       "            Sample_time  Temperature_Lab80  Oxygen_Dissolved_Lab-54\n",
       "49  2012-04-27 21:40:00                7.5                    12.00\n",
       "53  2012-07-13 20:40:00               16.5                    10.50\n",
       "64  2013-05-03 19:30:00                7.5                    12.70\n",
       "69  2013-07-11 18:35:00               17.5                    10.15\n",
       "70  2013-07-25 18:00:00               19.5                     9.38\n",
       "73  2013-09-04 19:10:00               20.0                     9.05\n",
       "74  2013-09-17 19:25:00               20.6                     8.96\n",
       "75  2013-10-02 20:45:00               12.2                     9.70"
      ]
     },
     "execution_count": 142,
     "metadata": {},
     "output_type": "execute_result"
    }
   ],
   "source": [
    "#Use the defined function to rename column names and drop empty values\n",
    "extract_and_drop_NaN()"
   ]
  },
  {
   "cell_type": "code",
   "execution_count": 167,
   "metadata": {
    "collapsed": true
   },
   "outputs": [],
   "source": [
    "def linear_model(x,y):\n",
    "    '''This function is used to create a linear regression for x and y variables in the dataset.\n",
    "    The input the function are the x and y variables while the output is a \n",
    "    linear model that represents these variables'''\n",
    "    \n",
    "    #Define the x and y variables\n",
    "    y= 'Oxygen_Dissolved_Lab-54'\n",
    "    x= 'Temperature_Lab80'\n",
    "    \n",
    "    #General form for the linear model formula, this would be used with the defined variables to help run the model\n",
    "    linear_model= sm.formula.ols(formula=\"Q('y') ~ Q('x')\", data= water_quality_DO2).fit()\n",
    "    \n",
    "    # Used to use the predict function we make a data frame, therefore below we have data frame that is used to make dataframe\n",
    "    column_name= 'Temperature_Lab80'\n",
    "    \n",
    "    x_new=pd.DataFrame({'column_name': range(1,700)})\n",
    "    \n",
    "    # create predict function to calculate linear model\n",
    "    y_preds=lm.predict(x_new)\n",
    "    y_preds[1:10]\n",
    "    \n",
    "    print(linear_model)\n",
    "    "
   ]
  },
  {
   "cell_type": "code",
   "execution_count": 92,
   "metadata": {
    "collapsed": false
   },
   "outputs": [
    {
     "data": {
      "text/plain": [
       "Intercept                 13.780598\n",
       "Q('Temperature_Lab80')    -0.229223\n",
       "dtype: float64"
      ]
     },
     "execution_count": 92,
     "metadata": {},
     "output_type": "execute_result"
    }
   ],
   "source": [
    "#Print the intercept and x value of the linear regression\n",
    "lm.params"
   ]
  },
  {
   "cell_type": "code",
   "execution_count": 97,
   "metadata": {
    "collapsed": false
   },
   "outputs": [
    {
     "name": "stdout",
     "output_type": "stream",
     "text": [
      "                                 OLS Regression Results                                 \n",
      "========================================================================================\n",
      "Dep. Variable:     Q('Oxygen_Dissolved_Lab-54')   R-squared:                       0.812\n",
      "Model:                                      OLS   Adj. R-squared:                  0.781\n",
      "Method:                           Least Squares   F-statistic:                     25.96\n",
      "Date:                          Mon, 16 Nov 2015   Prob (F-statistic):            0.00223\n",
      "Time:                                  18:20:17   Log-Likelihood:                -6.6875\n",
      "No. Observations:                             8   AIC:                             17.37\n",
      "Df Residuals:                                 6   BIC:                             17.53\n",
      "Df Model:                                     1                                         \n",
      "Covariance Type:                      nonrobust                                         \n",
      "==========================================================================================\n",
      "                             coef    std err          t      P>|t|      [95.0% Conf. Int.]\n",
      "------------------------------------------------------------------------------------------\n",
      "Intercept                 13.7806      0.719     19.159      0.000        12.021    15.541\n",
      "Q('Temperature_Lab80')    -0.2292      0.045     -5.095      0.002        -0.339    -0.119\n",
      "==============================================================================\n",
      "Omnibus:                        7.204   Durbin-Watson:                   0.784\n",
      "Prob(Omnibus):                  0.027   Jarque-Bera (JB):                2.168\n",
      "Skew:                          -1.207   Prob(JB):                        0.338\n",
      "Kurtosis:                       3.823   Cond. No.                         50.6\n",
      "==============================================================================\n",
      "\n",
      "Warnings:\n",
      "[1] Standard Errors assume that the covariance matrix of the errors is correctly specified.\n"
     ]
    },
    {
     "name": "stderr",
     "output_type": "stream",
     "text": [
      "C:\\Users\\Jhanelle\\Anaconda3\\lib\\site-packages\\scipy\\stats\\stats.py:1233: UserWarning: kurtosistest only valid for n>=20 ... continuing anyway, n=8\n",
      "  int(n))\n"
     ]
    }
   ],
   "source": [
    "#Print the summary for linear model \n",
    "print(lm.summary())"
   ]
  },
  {
   "cell_type": "code",
   "execution_count": 180,
   "metadata": {
    "collapsed": false
   },
   "outputs": [
    {
     "name": "stderr",
     "output_type": "stream",
     "text": [
      "C:\\Users\\Jhanelle\\Anaconda3\\lib\\site-packages\\matplotlib\\collections.py:590: FutureWarning: elementwise comparison failed; returning scalar instead, but in the future will perform elementwise comparison\n",
      "  if self._edgecolors == str('face'):\n"
     ]
    },
    {
     "data": {
      "text/plain": [
       "<matplotlib.figure.Figure at 0xbd4bbe0>"
      ]
     },
     "metadata": {},
     "output_type": "display_data"
    },
    {
     "data": {
      "image/png": "[encoded data removed]",
      "text/plain": [
       "<matplotlib.figure.Figure at 0xbd2ae80>"
      ]
     },
     "metadata": {},
     "output_type": "display_data"
    }
   ],
   "source": [
    "plt.figure(figsize=(3,2))\n",
    "\n",
    "#Plot the linear model for the dataset\n",
    "plot_water_quality= water_quality_DO2.plot(kind='scatter', x='Temperature_Lab80', y=\"Oxygen_Dissolved_Lab-54\")\n",
    "\n",
    "#Create the x limits for the graph\n",
    "plt.xlim(0,25)\n",
    "\n",
    "#Create the y limits for the graph\n",
    "plt.ylim(0,18)\n",
    "\n",
    "#Create a plot that displays the linear model\n",
    "plt.plot(x_new, y_preds, c='blue', linewidth=3)\n",
    "\n",
    "#Set title for the linear regression model\n",
    "plt.title('The relationship between Dissolved Oxygen and Temperature in the Fraser River Main Arm')\n",
    "\n",
    "#Save the linear model plot\n",
    "plt.savefig('Fraser_River_Water_Quality_Graph01.pdf')"
   ]
  },
  {
   "cell_type": "code",
   "execution_count": null,
   "metadata": {
    "collapsed": true
   },
   "outputs": [],
   "source": []
  },
  {
   "cell_type": "code",
   "execution_count": null,
   "metadata": {
    "collapsed": true
   },
   "outputs": [],
   "source": []
  }
 ],
 "metadata": {
  "kernelspec": {
   "display_name": "Python 3",
   "language": "python",
   "name": "python3"
  },
  "language_info": {
   "codemirror_mode": {
    "name": "ipython",
    "version": 3
   },
   "file_extension": ".py",
   "mimetype": "text/x-python",
   "name": "python",
   "nbconvert_exporter": "python",
   "pygments_lexer": "ipython3",
   "version": "3.4.3"
  }
 },
 "nbformat": 4,
 "nbformat_minor": 0
}
